{
 "cells": [
  {
   "cell_type": "markdown",
   "id": "799210e4",
   "metadata": {},
   "source": [
    "### Problema del Proyecto\n",
    "##### Constructora\n",
    "\n",
    "<img style=\"float: right; margin: 0px 0px 15px 15px;\" src=\"https://trabajosihay.la/wp-content/uploads/jobsearch-user-files/Ecom_Cocoa-Coffee_Logo_vertical_rgb.jpg\" width=\"300px\" height=\"100px\" />\n",
    "\n",
    "La Constructora *(ECOM)* dispone de tres plantas distribuidoraas de mezcla para satisfacer la demanda diaria de tres clientes localizados en Las Vegas, California y Chicago.\n",
    "\n",
    "\n",
    "La mezcladora numero $1$ puede satisfacer $80$ toneladas de cemento al dia respectivamente.\n",
    "La mezcladora numero $2$ puede satisfacer $40$ toneladas de cemento al dia respectivamente. \n",
    "La mezcladora numero $3$ puede satisfacer $60$ toneladas de cemento al dia respectivamente.\n",
    "\n",
    "Sin embargo, el consumo de los clientes es el siguiente:\n",
    "* Las Vegas: $70$ toneladas de cemento al dia.\n",
    "* California: $40$ toneladas de cemento al dia.\n",
    "* Chicago: $70$ toneladas de cemento al dia.\n",
    "\n",
    "Los costos asociados al envío del material por cada tonelada entre cada mezcladora y cada cliente son los siguientes:\n",
    "\n",
    "| Mezcladoras | Las vegas | California | Chicago |\n",
    "|-------------|-----------|------------|---------|\n",
    "|Mezcladora 1            |5        |2        |7      |\n",
    "|Mezcladora 2            |3        |6        |6      |\n",
    "|Mezcladora 3            |6        |1        |2      |\n",
    "\n",
    "Y por último, las restricciones del problema van a estar dadas por las capacidades de oferta y demanda de cada mezcladora y cada cliente.\n",
    "\n",
    "Variables:\n",
    "Existen 9 variables debido a que cada mezcladora puede surtir a los diferentes clientes *(3x3)=9*\n",
    "+ $x_1$,$x_2$,$x_3$,$x_4$,$x_5$,$x_6$,$x_7$,$x_8$,$x_9$."
   ]
  },
  {
   "cell_type": "code",
   "execution_count": 1,
   "id": "a0ed192a",
   "metadata": {},
   "outputs": [],
   "source": [
    "import scipy.optimize as opt\n",
    "import numpy as nump"
   ]
  },
  {
   "cell_type": "code",
   "execution_count": 2,
   "id": "2f62a0eb",
   "metadata": {},
   "outputs": [
    {
     "data": {
      "text/plain": [
       "     con: array([], dtype=float64)\n",
       "     fun: 540.0\n",
       " message: 'Optimization terminated successfully.'\n",
       "     nit: 9\n",
       "   slack: array([0., 0., 0., 0., 0., 0.])\n",
       "  status: 0\n",
       " success: True\n",
       "       x: array([30., 40., 10., 40.,  0.,  0.,  0.,  0., 60.])"
      ]
     },
     "execution_count": 2,
     "metadata": {},
     "output_type": "execute_result"
    }
   ],
   "source": [
    "Ciudades =nump.array([5,\n",
    "            2,\n",
    "            7,\n",
    "            3,\n",
    "            6,\n",
    "            6,\n",
    "            6,\n",
    "            1,\n",
    "            2\n",
    "])\n",
    "\n",
    "Matriz =nump.array([\n",
    "    [1, 1, 1, 0, 0, 0, 0, 0, 0],\n",
    "    [0, 0, 0, 1, 1, 1, 0, 0, 0],\n",
    "    [0, 0, 0, 0, 0, 0, 1, 1, 1],\n",
    "    [-1, 0, 0, -1, 0, 0, -1, 0, 0],\n",
    "    [0, -1, 0, 0, -1, 0, 0, -1, 0],\n",
    "    [0, 0, -1, 0, 0, -1, 0, 0, -1],\n",
    "])\n",
    "\n",
    "\n",
    "Toneladas = nump.array([80,\n",
    "              40,\n",
    "              60,\n",
    "             -70,\n",
    "             -40,\n",
    "             -70,\n",
    "])\n",
    "\n",
    "opt.linprog(Ciudades,Matriz,Toneladas,method= \"simplex\")"
   ]
  },
  {
   "cell_type": "code",
   "execution_count": null,
   "id": "0a4c858e",
   "metadata": {},
   "outputs": [],
   "source": []
  }
 ],
 "metadata": {
  "kernelspec": {
   "display_name": "Python 3 (ipykernel)",
   "language": "python",
   "name": "python3"
  },
  "language_info": {
   "codemirror_mode": {
    "name": "ipython",
    "version": 3
   },
   "file_extension": ".py",
   "mimetype": "text/x-python",
   "name": "python",
   "nbconvert_exporter": "python",
   "pygments_lexer": "ipython3",
   "version": "3.9.12"
  }
 },
 "nbformat": 4,
 "nbformat_minor": 5
}
